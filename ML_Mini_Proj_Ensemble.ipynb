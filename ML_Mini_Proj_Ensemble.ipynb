{
  "nbformat": 4,
  "nbformat_minor": 0,
  "metadata": {
    "colab": {
      "provenance": [],
      "collapsed_sections": [
        "E_oEiw3l-OYS",
        "OIvGlMHz1T2A",
        "PaWU6u_Q2N2m",
        "Z04ND3er4Ki_",
        "yaDOkD-I8oWO",
        "JNqkVyBk8qcd",
        "1OX1VQOpKcO6",
        "es_DU0SY-eRn",
        "jDxmb1B7XwS0",
        "94BQlkHUyri_",
        "PHfdeBqaMSaq",
        "D02uZMQLMaEx"
      ]
    },
    "kernelspec": {
      "name": "python3",
      "display_name": "Python 3"
    },
    "language_info": {
      "name": "python"
    }
  },
  "cells": [
    {
      "cell_type": "markdown",
      "source": [
        "# I hate ML :)"
      ],
      "metadata": {
        "id": "E_oEiw3l-OYS"
      }
    },
    {
      "cell_type": "code",
      "execution_count": 1,
      "metadata": {
        "colab": {
          "base_uri": "https://localhost:8080/"
        },
        "id": "K24jxCNHzr2e",
        "outputId": "5ffdd8e9-2d31-45e3-aa2c-7de2dc2770b9"
      },
      "outputs": [
        {
          "output_type": "stream",
          "name": "stdout",
          "text": [
            "Mounted at /content/drive\n"
          ]
        }
      ],
      "source": [
        "from google.colab import drive\n",
        "drive.mount('/content/drive')"
      ]
    },
    {
      "cell_type": "code",
      "source": [
        "!pip uninstall -y gensim numpy scipy\n",
        "!pip install numpy==1.24.3 scipy==1.10.1 gensim==4.3.1"
      ],
      "metadata": {
        "colab": {
          "base_uri": "https://localhost:8080/",
          "height": 812
        },
        "id": "vuBhNWATzxtM",
        "outputId": "c1ae289d-067b-4ec8-b536-6fcc49c502e8"
      },
      "execution_count": 2,
      "outputs": [
        {
          "output_type": "stream",
          "name": "stdout",
          "text": [
            "\u001b[33mWARNING: Skipping gensim as it is not installed.\u001b[0m\u001b[33m\n",
            "\u001b[0mFound existing installation: numpy 2.0.2\n",
            "Uninstalling numpy-2.0.2:\n",
            "  Successfully uninstalled numpy-2.0.2\n",
            "Found existing installation: scipy 1.14.1\n",
            "Uninstalling scipy-1.14.1:\n",
            "  Successfully uninstalled scipy-1.14.1\n",
            "Collecting numpy==1.24.3\n",
            "  Downloading numpy-1.24.3-cp311-cp311-manylinux_2_17_x86_64.manylinux2014_x86_64.whl.metadata (5.6 kB)\n",
            "Collecting scipy==1.10.1\n",
            "  Downloading scipy-1.10.1-cp311-cp311-manylinux_2_17_x86_64.manylinux2014_x86_64.whl.metadata (58 kB)\n",
            "\u001b[2K     \u001b[90m━━━━━━━━━━━━━━━━━━━━━━━━━━━━━━━━━━━━━━━━\u001b[0m \u001b[32m58.9/58.9 kB\u001b[0m \u001b[31m1.7 MB/s\u001b[0m eta \u001b[36m0:00:00\u001b[0m\n",
            "\u001b[?25hCollecting gensim==4.3.1\n",
            "  Downloading gensim-4.3.1-cp311-cp311-manylinux_2_17_x86_64.manylinux2014_x86_64.whl.metadata (8.4 kB)\n",
            "Requirement already satisfied: smart-open>=1.8.1 in /usr/local/lib/python3.11/dist-packages (from gensim==4.3.1) (7.1.0)\n",
            "Requirement already satisfied: wrapt in /usr/local/lib/python3.11/dist-packages (from smart-open>=1.8.1->gensim==4.3.1) (1.17.2)\n",
            "Downloading numpy-1.24.3-cp311-cp311-manylinux_2_17_x86_64.manylinux2014_x86_64.whl (17.3 MB)\n",
            "\u001b[2K   \u001b[90m━━━━━━━━━━━━━━━━━━━━━━━━━━━━━━━━━━━━━━━━\u001b[0m \u001b[32m17.3/17.3 MB\u001b[0m \u001b[31m63.3 MB/s\u001b[0m eta \u001b[36m0:00:00\u001b[0m\n",
            "\u001b[?25hDownloading scipy-1.10.1-cp311-cp311-manylinux_2_17_x86_64.manylinux2014_x86_64.whl (34.1 MB)\n",
            "\u001b[2K   \u001b[90m━━━━━━━━━━━━━━━━━━━━━━━━━━━━━━━━━━━━━━━━\u001b[0m \u001b[32m34.1/34.1 MB\u001b[0m \u001b[31m19.9 MB/s\u001b[0m eta \u001b[36m0:00:00\u001b[0m\n",
            "\u001b[?25hDownloading gensim-4.3.1-cp311-cp311-manylinux_2_17_x86_64.manylinux2014_x86_64.whl (26.6 MB)\n",
            "\u001b[2K   \u001b[90m━━━━━━━━━━━━━━━━━━━━━━━━━━━━━━━━━━━━━━━━\u001b[0m \u001b[32m26.6/26.6 MB\u001b[0m \u001b[31m44.1 MB/s\u001b[0m eta \u001b[36m0:00:00\u001b[0m\n",
            "\u001b[?25hInstalling collected packages: numpy, scipy, gensim\n",
            "\u001b[31mERROR: pip's dependency resolver does not currently take into account all the packages that are installed. This behaviour is the source of the following dependency conflicts.\n",
            "pymc 5.21.2 requires numpy>=1.25.0, but you have numpy 1.24.3 which is incompatible.\n",
            "scikit-image 0.25.2 requires scipy>=1.11.4, but you have scipy 1.10.1 which is incompatible.\n",
            "jaxlib 0.5.1 requires numpy>=1.25, but you have numpy 1.24.3 which is incompatible.\n",
            "jaxlib 0.5.1 requires scipy>=1.11.1, but you have scipy 1.10.1 which is incompatible.\n",
            "blosc2 3.2.1 requires numpy>=1.26, but you have numpy 1.24.3 which is incompatible.\n",
            "albumentations 2.0.5 requires numpy>=1.24.4, but you have numpy 1.24.3 which is incompatible.\n",
            "treescope 0.1.9 requires numpy>=1.25.2, but you have numpy 1.24.3 which is incompatible.\n",
            "cvxpy 1.6.4 requires scipy>=1.11.0, but you have scipy 1.10.1 which is incompatible.\n",
            "jax 0.5.2 requires numpy>=1.25, but you have numpy 1.24.3 which is incompatible.\n",
            "jax 0.5.2 requires scipy>=1.11.1, but you have scipy 1.10.1 which is incompatible.\n",
            "albucore 0.0.23 requires numpy>=1.24.4, but you have numpy 1.24.3 which is incompatible.\n",
            "tensorflow 2.18.0 requires numpy<2.1.0,>=1.26.0, but you have numpy 1.24.3 which is incompatible.\u001b[0m\u001b[31m\n",
            "\u001b[0mSuccessfully installed gensim-4.3.1 numpy-1.24.3 scipy-1.10.1\n"
          ]
        },
        {
          "output_type": "display_data",
          "data": {
            "application/vnd.colab-display-data+json": {
              "pip_warning": {
                "packages": [
                  "numpy"
                ]
              },
              "id": "14e552364166496b80c4b45a4acb8758"
            }
          },
          "metadata": {}
        }
      ]
    },
    {
      "cell_type": "code",
      "source": [
        "import pandas as pd\n",
        "import numpy as np\n",
        "from nltk.corpus import stopwords\n",
        "from nltk.tokenize import word_tokenize\n",
        "from nltk.stem import WordNetLemmatizer\n",
        "import re\n",
        "import matplotlib.pyplot as plt\n",
        "import seaborn as sns\n",
        "from collections import Counter\n",
        "from wordcloud import WordCloud,STOPWORDS\n",
        "from gensim.models import Word2Vec\n",
        "from sklearn.model_selection import train_test_split\n",
        "from sklearn.metrics import accuracy_score\n",
        "from sklearn.tree import DecisionTreeClassifier\n",
        "from sklearn.ensemble import BaggingClassifier\n",
        "from sklearn.multioutput import MultiOutputClassifier\n",
        "from sklearn.metrics import accuracy_score\n",
        "from sklearn.metrics import accuracy_score, precision_score, recall_score, f1_score, roc_auc_score, log_loss, classification_report, confusion_matrix\n",
        "import numpy as np\n",
        "from sklearn.datasets import make_multilabel_classification\n",
        "from sklearn.model_selection import train_test_split, GridSearchCV\n",
        "from sklearn.ensemble import BaggingClassifier\n",
        "from sklearn.tree import DecisionTreeClassifier\n",
        "from sklearn.multioutput import MultiOutputClassifier\n",
        "from sklearn.metrics import classification_report\n",
        "from sklearn.datasets import make_multilabel_classification\n",
        "from sklearn.model_selection import train_test_split, GridSearchCV\n",
        "from sklearn.ensemble import BaggingClassifier\n",
        "from sklearn.svm import SVC\n",
        "from sklearn.multioutput import MultiOutputClassifier\n",
        "from sklearn.metrics import classification_report\n",
        "from sklearn.svm import SVC\n",
        "from sklearn.ensemble import BaggingClassifier\n",
        "from sklearn.multioutput import MultiOutputClassifier\n",
        "from sklearn.metrics import accuracy_score\n",
        "from sklearn.ensemble import AdaBoostClassifier\n",
        "from sklearn.ensemble import RandomForestClassifier\n",
        "from sklearn.ensemble import VotingClassifier\n",
        "from sklearn.linear_model import LogisticRegression\n",
        "import pickle\n",
        "from sklearn.ensemble import StackingClassifier\n",
        "from sklearn.linear_model import LogisticRegression\n",
        "from sklearn.ensemble import RandomForestClassifier\n",
        "from sklearn.svm import SVC\n",
        "from sklearn.tree import DecisionTreeClassifier\n",
        "from sklearn.multioutput import MultiOutputClassifier"
      ],
      "metadata": {
        "id": "e1aMCm03zzbh"
      },
      "execution_count": 1,
      "outputs": []
    },
    {
      "cell_type": "code",
      "source": [
        "file_path = \"/content/drive/Shareddrives/ML Sem 6 Assignment 1/nlp on research articles classification/train.csv\"\n",
        "\n",
        "df = pd.read_csv(file_path)"
      ],
      "metadata": {
        "id": "fRdARGcOz5T4"
      },
      "execution_count": 2,
      "outputs": []
    },
    {
      "cell_type": "code",
      "source": [
        "df['total_text'] = df['TITLE'] + ' ' + df['ABSTRACT']\n",
        "df.set_index('ID', inplace=True)\n",
        "df = df[['total_text', 'Computer Science', 'Physics', 'Mathematics', 'Statistics', 'Quantitative Biology', 'Quantitative Finance']]\n",
        "df['labels'] = df.apply(lambda x: [x['Computer Science'], x['Physics'], x['Mathematics'], x['Statistics'], x['Quantitative Biology'], x['Quantitative Finance']], axis=1)"
      ],
      "metadata": {
        "id": "7c_Q0oyB0HGr"
      },
      "execution_count": 3,
      "outputs": []
    },
    {
      "cell_type": "code",
      "source": [
        "import nltk\n",
        "nltk.download('stopwords')\n",
        "nltk.download('punkt_tab')\n",
        "nltk.download('wordnet')\n",
        "stop = stopwords.words('english')\n",
        "\n",
        "def word_lemmatizer(text):\n",
        "    return [WordNetLemmatizer().lemmatize(i) for i in text]\n",
        "\n",
        "def clean_text(df, text_field, new_text_field_name):\n",
        "    df[new_text_field_name] = df[text_field].str.lower()\n",
        "    df[new_text_field_name] = df[new_text_field_name].apply(lambda elem: re.sub(r\"(@[A-Za-z0-9]+)|([^0-9A-Za-z \\t])|(\\w+:\\/\\/\\S+)|^rt|http.+?\", \"\", elem))\n",
        "    df[new_text_field_name] = df[new_text_field_name].apply(lambda elem: re.sub(r\"\\d+\", \"\", elem))\n",
        "    df[new_text_field_name] = df[new_text_field_name].apply(lambda x: ' '.join([word for word in x.split() if word not in stop]))\n",
        "    df[new_text_field_name] = df[new_text_field_name].apply(lambda x: word_tokenize(x))\n",
        "    df[new_text_field_name] = df[new_text_field_name].apply(lambda x: word_lemmatizer(x))\n",
        "    df[new_text_field_name] = df[new_text_field_name].apply(lambda x: ' '.join(x))\n",
        "    return df\n",
        "\n",
        "train_clean_df = clean_text(df, 'total_text', 'total_text_clean')"
      ],
      "metadata": {
        "colab": {
          "base_uri": "https://localhost:8080/"
        },
        "id": "I0v7Fpol0PDb",
        "outputId": "46af2063-f0a6-4ba2-d1c4-960953455fdd"
      },
      "execution_count": 4,
      "outputs": [
        {
          "output_type": "stream",
          "name": "stderr",
          "text": [
            "[nltk_data] Downloading package stopwords to /root/nltk_data...\n",
            "[nltk_data]   Unzipping corpora/stopwords.zip.\n",
            "[nltk_data] Downloading package punkt_tab to /root/nltk_data...\n",
            "[nltk_data]   Unzipping tokenizers/punkt_tab.zip.\n",
            "[nltk_data] Downloading package wordnet to /root/nltk_data...\n"
          ]
        }
      ]
    },
    {
      "cell_type": "code",
      "source": [
        "train_clean_df = train_clean_df[['total_text_clean','labels']]"
      ],
      "metadata": {
        "id": "xYVdpVYN0QvV"
      },
      "execution_count": 5,
      "outputs": []
    },
    {
      "cell_type": "code",
      "source": [
        "from sklearn.feature_extraction.text import TfidfVectorizer\n",
        "\n",
        "vectorizer = TfidfVectorizer()\n",
        "tfidf_matrix = vectorizer.fit_transform(train_clean_df['total_text_clean'])\n",
        "print(tfidf_matrix.shape)"
      ],
      "metadata": {
        "colab": {
          "base_uri": "https://localhost:8080/"
        },
        "id": "QysftdKw0WR4",
        "outputId": "526c3c2a-b524-424d-f4fe-a611c2a45cdf"
      },
      "execution_count": 6,
      "outputs": [
        {
          "output_type": "stream",
          "name": "stdout",
          "text": [
            "(20972, 226267)\n"
          ]
        }
      ]
    },
    {
      "cell_type": "code",
      "source": [
        "import os\n",
        "ensemble_dir = \"/content/drive/Shareddrives/ML Sem 6 Assignment 1/nlp on research articles classification/ensemble\"\n",
        "os.makedirs(ensemble_dir, exist_ok=True)\n",
        "tfidf_file_path = os.path.join(ensemble_dir, \"tfidf_matrix.npz\")\n",
        "from scipy.sparse import save_npz\n",
        "save_npz(tfidf_file_path, tfidf_matrix)\n",
        "\n",
        "import pickle\n",
        "vectorizer_file_path = os.path.join(ensemble_dir, \"tfidf_vectorizer.pkl\")\n",
        "with open(vectorizer_file_path, 'wb') as f:\n",
        "    pickle.dump(vectorizer, f)"
      ],
      "metadata": {
        "id": "uekpXqY40Y2G"
      },
      "execution_count": 7,
      "outputs": []
    },
    {
      "cell_type": "markdown",
      "source": [
        "# Word2Vec\n"
      ],
      "metadata": {
        "id": "OIvGlMHz1T2A"
      }
    },
    {
      "cell_type": "code",
      "source": [
        "texts = train_clean_df[\"total_text_clean\"].apply(lambda x: x.split())\n",
        "labels = np.array(train_clean_df[\"labels\"].tolist())\n",
        "\n",
        "w2v_model = Word2Vec(sentences=texts, vector_size=50, window=5, min_count=1)\n",
        "def sentence_to_vector(sentence, model):\n",
        "    vectors = [model.wv[word] for word in sentence if word in model.wv]\n",
        "    return np.mean(vectors, axis=0) if vectors else np.zeros(model.vector_size)\n",
        "\n",
        "X = np.array([sentence_to_vector(sent, w2v_model) for sent in texts])\n",
        "y = labels\n",
        "\n",
        "X_train, X_test, y_train, y_test = train_test_split(X, y, test_size=0.2, random_state=42)"
      ],
      "metadata": {
        "id": "JtO5klX_0nIo"
      },
      "execution_count": 7,
      "outputs": []
    },
    {
      "cell_type": "code",
      "source": [
        "# prompt: save word2vec as pikl\n",
        "\n",
        "import pickle\n",
        "import os\n",
        "\n",
        "# Specify the directory and filename for saving the Word2Vec model\n",
        "w2v_model_path = \"word2vec_model.pkl\"\n",
        "\n",
        "# Save the Word2Vec model using pickle\n",
        "with open(w2v_model_path, 'wb') as f:\n",
        "    pickle.dump(w2v_model, f)\n"
      ],
      "metadata": {
        "id": "FEv8CDQpJ_i8"
      },
      "execution_count": 9,
      "outputs": []
    },
    {
      "cell_type": "code",
      "source": [
        "# prompt: save the word2vec\n",
        "\n",
        "import os\n",
        "from gensim.models import Word2Vec\n",
        "\n",
        "# Specify the directory and filename for saving the model\n",
        "model_dir = \"/content/drive/Shareddrives/ML Sem 6 Assignment 1/nlp on research articles classification/ensemble\"\n",
        "os.makedirs(model_dir, exist_ok=True)  # Create the directory if it doesn't exist\n",
        "model_file_path = os.path.join(model_dir, \"word2vec_model\")\n",
        "\n",
        "# Save the Word2Vec model\n",
        "w2v_model.save(model_file_path)\n"
      ],
      "metadata": {
        "id": "s2ENBJE8J4TZ"
      },
      "execution_count": null,
      "outputs": []
    },
    {
      "cell_type": "code",
      "source": [
        "word_vectors = {word: w2v_model.wv[word] for word in w2v_model.wv.index_to_key}\n",
        "vector_size = w2v_model.vector_size\n",
        "np.save('word_vectors.npy', (word_vectors, vector_size))"
      ],
      "metadata": {
        "id": "lxmir-OIgCqG"
      },
      "execution_count": 10,
      "outputs": []
    },
    {
      "cell_type": "markdown",
      "source": [
        "# DT Bagging Base"
      ],
      "metadata": {
        "id": "PaWU6u_Q2N2m"
      }
    },
    {
      "cell_type": "code",
      "source": [
        "base_estimator = DecisionTreeClassifier(max_depth=8)\n",
        "\n",
        "bagging_model = BaggingClassifier(estimator=base_estimator, n_estimators=10, random_state=42)\n",
        "multi_output_model_bagging = MultiOutputClassifier(estimator=bagging_model)\n",
        "multi_output_model_bagging.fit(X_train, y_train)\n",
        "y_pred = multi_output_model_bagging.predict(X_test)\n",
        "train_pred = multi_output_model_bagging.predict(X_train)\n",
        "test_pred = multi_output_model_bagging.predict(X_test)\n",
        "\n",
        "train_accuracy = accuracy_score(y_train, train_pred)\n",
        "test_accuracy = accuracy_score(y_test, test_pred)\n",
        "\n",
        "print(f\"Train Accuracy: {train_accuracy}\")\n",
        "print(f\"Test Accuracy: {test_accuracy}\")"
      ],
      "metadata": {
        "colab": {
          "base_uri": "https://localhost:8080/"
        },
        "id": "naxm4pw51XiV",
        "outputId": "d7be487c-ccf8-4010-902d-213db55c302d"
      },
      "execution_count": 15,
      "outputs": [
        {
          "output_type": "stream",
          "name": "stdout",
          "text": [
            "Train Accuracy: 0.718781665375216\n",
            "Test Accuracy: 0.6243146603098927\n"
          ]
        }
      ]
    },
    {
      "cell_type": "code",
      "source": [
        "print(\"Classification Metrics:\")\n",
        "print(\"Accuracy:\", accuracy_score(y_test, test_pred))\n",
        "print(\"Precision (micro):\", precision_score(y_test, test_pred, average='micro'))\n",
        "print(\"Recall (micro):\", recall_score(y_test, test_pred, average='micro'))\n",
        "print(\"F1 Score (micro):\", f1_score(y_test, test_pred, average='micro'))\n",
        "\n",
        "y_prob = multi_output_model_bagging.predict_proba(X_test)\n",
        "y_prob = np.array([[cls[1] for cls in sample] for sample in y_prob])\n",
        "y_prob = np.swapaxes(y_prob, 0, 1)\n",
        "\n",
        "print(\"ROC AUC (macro):\", roc_auc_score(y_test, y_prob, average='macro', multi_class='ovr'))\n",
        "print(\"Log Loss:\", log_loss(y_test, y_prob))\n",
        "print(\"\\nClassification Report:\\n\", classification_report(y_test, test_pred, zero_division=0))\n",
        "\n",
        "print(\"\\nConfusion Matrices (per class):\")\n",
        "for i in range(y_test.shape[1]):\n",
        "    print(f\"Class {i+1}:\\n\", confusion_matrix(y_test[:, i], test_pred[:, i]))\n"
      ],
      "metadata": {
        "colab": {
          "base_uri": "https://localhost:8080/"
        },
        "id": "h0BTy-nl3eKH",
        "outputId": "082e1484-483b-4dab-a186-1d4630a45f18"
      },
      "execution_count": 18,
      "outputs": [
        {
          "output_type": "stream",
          "name": "stdout",
          "text": [
            "Classification Metrics:\n",
            "Accuracy: 0.6243146603098927\n",
            "Precision (micro): 0.8136112814224402\n",
            "Recall (micro): 0.7505656108597285\n",
            "F1 Score (micro): 0.7808178876140042\n",
            "ROC AUC (macro): 0.9035390662361983\n",
            "Log Loss: 0.7654764530719498\n",
            "\n",
            "Classification Report:\n",
            "               precision    recall  f1-score   support\n",
            "\n",
            "           0       0.77      0.86      0.81      1692\n",
            "           1       0.90      0.79      0.84      1226\n",
            "           2       0.84      0.73      0.78      1150\n",
            "           3       0.78      0.68      0.73      1069\n",
            "           4       0.39      0.06      0.10       122\n",
            "           5       0.00      0.00      0.00        45\n",
            "\n",
            "   micro avg       0.81      0.75      0.78      5304\n",
            "   macro avg       0.61      0.52      0.54      5304\n",
            "weighted avg       0.80      0.75      0.77      5304\n",
            " samples avg       0.80      0.78      0.77      5304\n",
            "\n",
            "\n",
            "Confusion Matrices (per class):\n",
            "Class 1:\n",
            " [[2081  422]\n",
            " [ 243 1449]]\n",
            "Class 2:\n",
            " [[2861  108]\n",
            " [ 262  964]]\n",
            "Class 3:\n",
            " [[2883  162]\n",
            " [ 316  834]]\n",
            "Class 4:\n",
            " [[2918  208]\n",
            " [ 342  727]]\n",
            "Class 5:\n",
            " [[4062   11]\n",
            " [ 115    7]]\n",
            "Class 6:\n",
            " [[4149    1]\n",
            " [  45    0]]\n"
          ]
        },
        {
          "output_type": "stream",
          "name": "stderr",
          "text": [
            "/usr/local/lib/python3.11/dist-packages/sklearn/metrics/_classification.py:3001: UserWarning: The y_pred values do not sum to one. Make sure to pass probabilities.\n",
            "  warnings.warn(\n"
          ]
        }
      ]
    },
    {
      "cell_type": "code",
      "source": [
        "model_file_path = \"/content/drive/Shareddrives/ML Sem 6 Assignment 1/nlp on research articles classification/ensemble/multi_output_model_bagging.pkl\"\n",
        "with open(model_file_path, 'wb') as f:\n",
        "    pickle.dump(multi_output_model_bagging, f)"
      ],
      "metadata": {
        "id": "rniE3Xed4P1H"
      },
      "execution_count": 19,
      "outputs": []
    },
    {
      "cell_type": "markdown",
      "source": [
        "# DT Bagging Hyperparameter\n"
      ],
      "metadata": {
        "id": "Z04ND3er4Ki_"
      }
    },
    {
      "cell_type": "code",
      "source": [
        "base_tree = DecisionTreeClassifier()\n",
        "bagging_model = BaggingClassifier(estimator=base_tree, random_state=22)\n",
        "multioutput_bagging_model = MultiOutputClassifier(bagging_model)\n",
        "param_grid = {\n",
        "    'estimator__n_estimators': [5, 20],\n",
        "    'estimator__max_samples': [0.5, 1.0],\n",
        "    'estimator__estimator__max_depth': [3, 5]\n",
        "}\n",
        "grid_search_cv = GridSearchCV(\n",
        "    estimator=multioutput_bagging_model,\n",
        "    param_grid=param_grid,\n",
        "    cv=3,\n",
        "    scoring='f1_micro'\n",
        ")\n",
        "grid_search_cv.fit(X_train, y_train)\n",
        "best_multioutput_model = grid_search_cv.best_estimator_\n",
        "test_pred = best_multioutput_model.predict(X_test)\n",
        "train_pred = best_multioutput_model.predict(X_train)\n",
        "\n",
        "train_accuracy = accuracy_score(y_train, train_pred)\n",
        "test_accuracy = accuracy_score(y_test, test_pred)\n",
        "\n",
        "print(f\"Train Accuracy: {train_accuracy}\")\n",
        "print(f\"Test Accuracy: {test_accuracy}\")"
      ],
      "metadata": {
        "colab": {
          "base_uri": "https://localhost:8080/"
        },
        "id": "64y27aPn4WNB",
        "outputId": "58e52183-d0d9-445a-845f-0a4d1e3b9180"
      },
      "execution_count": 24,
      "outputs": [
        {
          "output_type": "stream",
          "name": "stdout",
          "text": [
            "Train Accuracy: 0.6299696012397926\n",
            "Test Accuracy: 0.6104886769964243\n"
          ]
        }
      ]
    },
    {
      "cell_type": "code",
      "source": [
        "print(\"Classification Metrics:\")\n",
        "print(\"Accuracy:\", accuracy_score(y_test, test_pred))\n",
        "print(\"Precision (micro):\", precision_score(y_test, test_pred, average='micro'))\n",
        "print(\"Recall (micro):\", recall_score(y_test, test_pred, average='micro'))\n",
        "print(\"F1 Score (micro):\", f1_score(y_test, test_pred, average='micro'))\n",
        "\n",
        "y_prob = best_multioutput_model.predict_proba(X_test)\n",
        "y_prob = np.array([[cls[1] for cls in sample] for sample in y_prob])\n",
        "y_prob = np.swapaxes(y_prob, 0, 1)\n",
        "\n",
        "print(\"ROC AUC (macro):\", roc_auc_score(y_test, y_prob, average='macro', multi_class='ovr'))\n",
        "print(\"Log Loss:\", log_loss(y_test, y_prob))\n",
        "print(\"\\nClassification Report:\\n\", classification_report(y_test, test_pred, zero_division=0))\n",
        "\n",
        "print(\"\\nConfusion Matrices (per class):\")\n",
        "for i in range(y_test.shape[1]):\n",
        "    print(f\"Class {i+1}:\\n\", confusion_matrix(y_test[:, i], test_pred[:, i]))\n"
      ],
      "metadata": {
        "colab": {
          "base_uri": "https://localhost:8080/"
        },
        "id": "uR6L1Myq5bQl",
        "outputId": "9a0b34d5-1337-4467-d144-6dc97b12794d"
      },
      "execution_count": 25,
      "outputs": [
        {
          "output_type": "stream",
          "name": "stdout",
          "text": [
            "Classification Metrics:\n",
            "Accuracy: 0.6104886769964243\n",
            "Precision (micro): 0.8118357991248176\n",
            "Recall (micro): 0.7345399698340875\n",
            "F1 Score (micro): 0.7712560625556766\n",
            "ROC AUC (macro): 0.8952790574354338\n",
            "Log Loss: 0.7847349522116038\n",
            "\n",
            "Classification Report:\n",
            "               precision    recall  f1-score   support\n",
            "\n",
            "           0       0.77      0.84      0.80      1692\n",
            "           1       0.90      0.77      0.83      1226\n",
            "           2       0.83      0.72      0.78      1150\n",
            "           3       0.77      0.66      0.71      1069\n",
            "           4       0.50      0.01      0.02       122\n",
            "           5       0.00      0.00      0.00        45\n",
            "\n",
            "   micro avg       0.81      0.73      0.77      5304\n",
            "   macro avg       0.63      0.50      0.52      5304\n",
            "weighted avg       0.80      0.73      0.76      5304\n",
            " samples avg       0.78      0.77      0.76      5304\n",
            "\n",
            "\n",
            "Confusion Matrices (per class):\n",
            "Class 1:\n",
            " [[2080  423]\n",
            " [ 274 1418]]\n",
            "Class 2:\n",
            " [[2867  102]\n",
            " [ 284  942]]\n",
            "Class 3:\n",
            " [[2880  165]\n",
            " [ 318  832]]\n",
            "Class 4:\n",
            " [[2914  212]\n",
            " [ 366  703]]\n",
            "Class 5:\n",
            " [[4072    1]\n",
            " [ 121    1]]\n",
            "Class 6:\n",
            " [[4150    0]\n",
            " [  45    0]]\n"
          ]
        },
        {
          "output_type": "stream",
          "name": "stderr",
          "text": [
            "/usr/local/lib/python3.11/dist-packages/sklearn/metrics/_classification.py:3001: UserWarning: The y_pred values do not sum to one. Make sure to pass probabilities.\n",
            "  warnings.warn(\n"
          ]
        }
      ]
    },
    {
      "cell_type": "code",
      "source": [
        "model_file_path = \"/content/drive/Shareddrives/ML Sem 6 Assignment 1/nlp on research articles classification/ensemble/multi_output_model_bagging_best.pkl\"\n",
        "with open(model_file_path, 'wb') as f:\n",
        "    pickle.dump(multi_output_model_bagging, f)\n"
      ],
      "metadata": {
        "id": "Zb07_Yx-8n5X"
      },
      "execution_count": 27,
      "outputs": []
    },
    {
      "cell_type": "markdown",
      "source": [
        "# SVM Bagging Base"
      ],
      "metadata": {
        "id": "yaDOkD-I8oWO"
      }
    },
    {
      "cell_type": "code",
      "source": [
        "base_estimator = SVC(probability=True, kernel='rbf', C=1.0)\n",
        "bagging_model = BaggingClassifier(estimator=base_estimator, n_estimators=5, random_state=42)\n",
        "multi_output_model_bagging = MultiOutputClassifier(estimator=bagging_model)\n",
        "multi_output_model_bagging.fit(X_train, y_train)\n",
        "\n",
        "train_pred = multi_output_model_bagging.predict(X_train)\n",
        "test_pred = multi_output_model_bagging.predict(X_test)\n",
        "\n",
        "train_accuracy = accuracy_score(y_train, train_pred)\n",
        "test_accuracy = accuracy_score(y_test, test_pred)\n",
        "\n",
        "print(f\"Train Accuracy: {train_accuracy}\")\n",
        "print(f\"Test Accuracy: {test_accuracy}\")\n"
      ],
      "metadata": {
        "colab": {
          "base_uri": "https://localhost:8080/"
        },
        "id": "DRwLTPa58qLM",
        "outputId": "180bc43b-8add-403f-fdad-c5b5cb002b53"
      },
      "execution_count": 28,
      "outputs": [
        {
          "output_type": "stream",
          "name": "stdout",
          "text": [
            "Train Accuracy: 0.6517255766823628\n",
            "Test Accuracy: 0.6405244338498212\n"
          ]
        }
      ]
    },
    {
      "cell_type": "code",
      "source": [
        "print(\"Classification Metrics:\")\n",
        "print(\"Accuracy:\", accuracy_score(y_test, test_pred))\n",
        "print(\"Precision (micro):\", precision_score(y_test, test_pred, average='micro'))\n",
        "print(\"Recall (micro):\", recall_score(y_test, test_pred, average='micro'))\n",
        "print(\"F1 Score (micro):\", f1_score(y_test, test_pred, average='micro'))\n",
        "\n",
        "y_prob = multi_output_model_bagging.predict_proba(X_test)\n",
        "y_prob = np.array([[cls[1] for cls in sample] for sample in y_prob])\n",
        "y_prob = np.swapaxes(y_prob, 0, 1)\n",
        "\n",
        "print(\"ROC AUC (macro):\", roc_auc_score(y_test, y_prob, average='macro', multi_class='ovr'))\n",
        "print(\"Log Loss:\", log_loss(y_test, y_prob))\n",
        "print(\"\\nClassification Report:\\n\", classification_report(y_test, test_pred, zero_division=0))\n",
        "\n",
        "print(\"\\nConfusion Matrices (per class):\")\n",
        "for i in range(y_test.shape[1]):\n",
        "    print(f\"Class {i+1}:\\n\", confusion_matrix(y_test[:, i], test_pred[:, i]))\n"
      ],
      "metadata": {
        "colab": {
          "base_uri": "https://localhost:8080/"
        },
        "id": "lOM4xEaA8qD7",
        "outputId": "d8e37a46-3148-470d-bd17-1c172e3aea10"
      },
      "execution_count": 29,
      "outputs": [
        {
          "output_type": "stream",
          "name": "stdout",
          "text": [
            "Classification Metrics:\n",
            "Accuracy: 0.6405244338498212\n",
            "Precision (micro): 0.8319170984455958\n",
            "Recall (micro): 0.7567873303167421\n",
            "F1 Score (micro): 0.7925757725343074\n",
            "ROC AUC (macro): 0.930989723312211\n",
            "Log Loss: 0.7046020673981761\n",
            "\n",
            "Classification Report:\n",
            "               precision    recall  f1-score   support\n",
            "\n",
            "           0       0.79      0.85      0.82      1692\n",
            "           1       0.90      0.81      0.86      1226\n",
            "           2       0.86      0.73      0.79      1150\n",
            "           3       0.79      0.69      0.74      1069\n",
            "           4       0.40      0.02      0.03       122\n",
            "           5       1.00      0.02      0.04        45\n",
            "\n",
            "   micro avg       0.83      0.76      0.79      5304\n",
            "   macro avg       0.79      0.52      0.55      5304\n",
            "weighted avg       0.83      0.76      0.78      5304\n",
            " samples avg       0.81      0.79      0.78      5304\n",
            "\n",
            "\n",
            "Confusion Matrices (per class):\n",
            "Class 1:\n",
            " [[2124  379]\n",
            " [ 250 1442]]\n",
            "Class 2:\n",
            " [[2863  106]\n",
            " [ 229  997]]\n",
            "Class 3:\n",
            " [[2912  133]\n",
            " [ 314  836]]\n",
            "Class 4:\n",
            " [[2936  190]\n",
            " [ 333  736]]\n",
            "Class 5:\n",
            " [[4070    3]\n",
            " [ 120    2]]\n",
            "Class 6:\n",
            " [[4150    0]\n",
            " [  44    1]]\n"
          ]
        },
        {
          "output_type": "stream",
          "name": "stderr",
          "text": [
            "/usr/local/lib/python3.11/dist-packages/sklearn/metrics/_classification.py:3001: UserWarning: The y_pred values do not sum to one. Make sure to pass probabilities.\n",
            "  warnings.warn(\n"
          ]
        }
      ]
    },
    {
      "cell_type": "code",
      "source": [
        "model_file_path = \"/content/drive/Shareddrives/ML Sem 6 Assignment 1/nlp on research articles classification/ensemble/multi_output_model_bagging_svm.pkl\"\n",
        "with open(model_file_path, 'wb') as f:\n",
        "    pickle.dump(multi_output_model_bagging, f)\n"
      ],
      "metadata": {
        "id": "YnJMkZgs8qAz"
      },
      "execution_count": 30,
      "outputs": []
    },
    {
      "cell_type": "markdown",
      "source": [
        "# SVM Bagging Hyperparameter (havent run)"
      ],
      "metadata": {
        "id": "JNqkVyBk8qcd"
      }
    },
    {
      "cell_type": "code",
      "source": [
        "base_svm = SVC(probability=True)\n",
        "\n",
        "bagging_svm_model = BaggingClassifier(estimator=base_svm, random_state=22)\n",
        "\n",
        "multioutput_bagging_svm = MultiOutputClassifier(bagging_svm_model)\n",
        "\n",
        "param_grid = {\n",
        "    'estimator__n_estimators': [5, 10],\n",
        "    'estimator__max_samples': [0.5, 1.0],\n",
        "    'estimator__estimator__C': [0.1, 1, 10],\n",
        "    'estimator__estimator__kernel': ['linear', 'rbf']\n",
        "}\n",
        "\n",
        "grid_search_cv = GridSearchCV(\n",
        "    estimator=multioutput_bagging_svm,\n",
        "    param_grid=param_grid,\n",
        "    cv=3,\n",
        "    scoring='f1_micro'\n",
        ")\n",
        "grid_search_cv.fit(X_train, y_train)\n",
        "best_multioutput_svm_model = grid_search_cv.best_estimator_\n",
        "test_pred = best_multioutput_svm_model.predict(X_test)\n",
        "train_pred = best_multioutput_svm_model.predict(X_train)\n"
      ],
      "metadata": {
        "id": "w0qAeV_k8sg3"
      },
      "execution_count": null,
      "outputs": []
    },
    {
      "cell_type": "code",
      "source": [
        "print(\"Classification Metrics:\")\n",
        "print(\"Accuracy:\", accuracy_score(y_test, test_pred))\n",
        "print(\"Precision (micro):\", precision_score(y_test, test_pred, average='micro'))\n",
        "print(\"Recall (micro):\", recall_score(y_test, test_pred, average='micro'))\n",
        "print(\"F1 Score (micro):\", f1_score(y_test, test_pred, average='micro'))\n",
        "\n",
        "y_prob = best_multioutput_model.predict_proba(X_test)\n",
        "y_prob = np.array([[cls[1] for cls in sample] for sample in y_prob])\n",
        "y_prob = np.swapaxes(y_prob, 0, 1)\n",
        "\n",
        "print(\"ROC AUC (macro):\", roc_auc_score(y_test, y_prob, average='macro', multi_class='ovr'))\n",
        "print(\"Log Loss:\", log_loss(y_test, y_prob))\n",
        "print(\"\\nClassification Report:\\n\", classification_report(y_test, test_pred, zero_division=0))\n",
        "\n",
        "print(\"\\nConfusion Matrices (per class):\")\n",
        "for i in range(y_test.shape[1]):\n",
        "    print(f\"Class {i+1}:\\n\", confusion_matrix(y_test[:, i], test_pred[:, i]))\n"
      ],
      "metadata": {
        "id": "XJ4Gq1Mc9vhu"
      },
      "execution_count": null,
      "outputs": []
    },
    {
      "cell_type": "code",
      "source": [],
      "metadata": {
        "id": "FlT9s5-H9y6f"
      },
      "execution_count": null,
      "outputs": []
    },
    {
      "cell_type": "markdown",
      "source": [
        "# RF Bagging Base (havent run)"
      ],
      "metadata": {
        "id": "1OX1VQOpKcO6"
      }
    },
    {
      "cell_type": "code",
      "source": [
        "base_estimator = RandomForestClassifier(random_state=42)\n",
        "bagging_model = BaggingClassifier(estimator=base_estimator, n_estimators=5, random_state=42)\n",
        "multi_output_model_bagging = MultiOutputClassifier(estimator=bagging_model)\n",
        "multi_output_model_bagging.fit(X_train, y_train)\n",
        "\n",
        "train_pred = multi_output_model_bagging.predict(X_train)\n",
        "test_pred = multi_output_model_bagging.predict(X_test)\n",
        "\n",
        "train_accuracy = accuracy_score(y_train, train_pred)\n",
        "test_accuracy = accuracy_score(y_test, test_pred)\n",
        "\n",
        "print(f\"Train Accuracy: {train_accuracy}\")\n",
        "print(f\"Test Accuracy: {test_accuracy}\")"
      ],
      "metadata": {
        "id": "YahfkgdIKbor"
      },
      "execution_count": null,
      "outputs": []
    },
    {
      "cell_type": "code",
      "source": [
        "\n",
        "print(\"Classification Metrics:\")\n",
        "print(\"Accuracy:\", accuracy_score(y_test, test_pred))\n",
        "print(\"Precision (micro):\", precision_score(y_test, test_pred, average='micro'))\n",
        "print(\"Recall (micro):\", recall_score(y_test, test_pred, average='micro'))\n",
        "print(\"F1 Score (micro):\", f1_score(y_test, test_pred, average='micro'))\n",
        "\n",
        "y_prob = multi_output_model_bagging.predict_proba(X_test)\n",
        "y_prob = np.array([[cls[1] for cls in sample] for sample in y_prob])\n",
        "y_prob = np.swapaxes(y_prob, 0, 1)\n",
        "\n",
        "print(\"ROC AUC (macro):\", roc_auc_score(y_test, y_prob, average='macro', multi_class='ovr'))\n",
        "print(\"Log Loss:\", log_loss(y_test, y_prob))\n",
        "print(\"\\nClassification Report:\\n\", classification_report(y_test, test_pred, zero_division=0))\n",
        "\n",
        "print(\"\\nConfusion Matrices (per class):\")\n",
        "for i in range(y_test.shape[1]):\n",
        "    print(f\"Class {i+1}:\\n\", confusion_matrix(y_test[:, i], test_pred[:, i]))\n"
      ],
      "metadata": {
        "id": "gTm4SxcsKq39"
      },
      "execution_count": null,
      "outputs": []
    },
    {
      "cell_type": "code",
      "source": [
        "model_file_path = \"/content/drive/Shareddrives/ML Sem 6 Assignment 1/nlp on research articles classification/ensemble/multi_output_model_bagging_rf.pkl\"\n",
        "with open(model_file_path, 'wb') as f:\n",
        "    pickle.dump(multi_output_model_bagging, f)"
      ],
      "metadata": {
        "id": "Gk72DkVEKr3X"
      },
      "execution_count": null,
      "outputs": []
    },
    {
      "cell_type": "markdown",
      "source": [
        "# SVM Adaboost Base (didnt work)"
      ],
      "metadata": {
        "id": "es_DU0SY-eRn"
      }
    },
    {
      "cell_type": "code",
      "source": [
        "base_estimator = SVC(probability=True)\n",
        "ada_boost_model = AdaBoostClassifier(estimator=base_estimator, n_estimators=5, random_state=42, algorithm='SAMME')\n",
        "\n",
        "multi_output_model_adaboost = MultiOutputClassifier(estimator=ada_boost_model)\n",
        "multi_output_model_adaboost.fit(X_train, y_train)\n",
        "\n",
        "train_pred = multi_output_model_adaboost.predict(X_train)\n",
        "test_pred = multi_output_model_adaboost.predict(X_test)\n",
        "\n",
        "train_accuracy = accuracy_score(y_train, train_pred)\n",
        "test_accuracy = accuracy_score(y_test, test_pred)\n",
        "\n",
        "print(f\"Train Accuracy: {train_accuracy}\")\n",
        "print(f\"Test Accuracy: {test_accuracy}\")"
      ],
      "metadata": {
        "colab": {
          "base_uri": "https://localhost:8080/"
        },
        "id": "YnlctInx-d92",
        "outputId": "5d006585-fa9b-4757-f4f5-2a3f084c4f1d"
      },
      "execution_count": 34,
      "outputs": [
        {
          "output_type": "stream",
          "name": "stderr",
          "text": [
            "/usr/local/lib/python3.11/dist-packages/sklearn/ensemble/_weight_boosting.py:519: FutureWarning: The parameter 'algorithm' is deprecated in 1.6 and has no effect. It will be removed in version 1.8.\n",
            "  warnings.warn(\n",
            "/usr/local/lib/python3.11/dist-packages/sklearn/ensemble/_weight_boosting.py:519: FutureWarning: The parameter 'algorithm' is deprecated in 1.6 and has no effect. It will be removed in version 1.8.\n",
            "  warnings.warn(\n",
            "/usr/local/lib/python3.11/dist-packages/sklearn/ensemble/_weight_boosting.py:519: FutureWarning: The parameter 'algorithm' is deprecated in 1.6 and has no effect. It will be removed in version 1.8.\n",
            "  warnings.warn(\n",
            "/usr/local/lib/python3.11/dist-packages/sklearn/ensemble/_weight_boosting.py:519: FutureWarning: The parameter 'algorithm' is deprecated in 1.6 and has no effect. It will be removed in version 1.8.\n",
            "  warnings.warn(\n",
            "/usr/local/lib/python3.11/dist-packages/sklearn/ensemble/_weight_boosting.py:519: FutureWarning: The parameter 'algorithm' is deprecated in 1.6 and has no effect. It will be removed in version 1.8.\n",
            "  warnings.warn(\n",
            "/usr/local/lib/python3.11/dist-packages/sklearn/ensemble/_weight_boosting.py:519: FutureWarning: The parameter 'algorithm' is deprecated in 1.6 and has no effect. It will be removed in version 1.8.\n",
            "  warnings.warn(\n"
          ]
        },
        {
          "output_type": "stream",
          "name": "stdout",
          "text": [
            "Train Accuracy: 0.0\n",
            "Test Accuracy: 0.0\n"
          ]
        }
      ]
    },
    {
      "cell_type": "code",
      "source": [
        "print(\"Classification Metrics:\")\n",
        "print(\"Accuracy:\", accuracy_score(y_test, test_pred))\n",
        "print(\"Precision (micro):\", precision_score(y_test, test_pred, average='micro'))\n",
        "print(\"Recall (micro):\", recall_score(y_test, test_pred, average='micro'))\n",
        "print(\"F1 Score (micro):\", f1_score(y_test, test_pred, average='micro'))\n",
        "\n",
        "y_prob = multi_output_model_adaboost.predict_proba(X_test)\n",
        "y_prob = np.array([[cls[1] for cls in sample] for sample in y_prob])\n",
        "y_prob = np.swapaxes(y_prob, 0, 1)\n",
        "\n",
        "print(\"ROC AUC (macro):\", roc_auc_score(y_test, y_prob, average='macro', multi_class='ovr'))\n",
        "print(\"Log Loss:\", log_loss(y_test, y_prob))\n",
        "print(\"\\nClassification Report:\\n\", classification_report(y_test, test_pred, zero_division=0))\n",
        "\n",
        "print(\"\\nConfusion Matrices (per class):\")\n",
        "for i in range(y_test.shape[1]):\n",
        "    print(f\"Class {i+1}:\\n\", confusion_matrix(y_test[:, i], test_pred[:, i]))"
      ],
      "metadata": {
        "colab": {
          "base_uri": "https://localhost:8080/",
          "height": 519
        },
        "id": "BkmZ5Dwz-d7K",
        "outputId": "3b095ab1-de10-449b-998e-5c404691eed2"
      },
      "execution_count": 36,
      "outputs": [
        {
          "output_type": "stream",
          "name": "stdout",
          "text": [
            "Classification Metrics:\n",
            "Accuracy: 0.0\n",
            "Precision (micro): 0.0\n",
            "Recall (micro): 0.0\n",
            "F1 Score (micro): 0.0\n"
          ]
        },
        {
          "output_type": "stream",
          "name": "stderr",
          "text": [
            "/usr/local/lib/python3.11/dist-packages/sklearn/metrics/_classification.py:1565: UndefinedMetricWarning: Precision is ill-defined and being set to 0.0 due to no predicted samples. Use `zero_division` parameter to control this behavior.\n",
            "  _warn_prf(average, modifier, f\"{metric.capitalize()} is\", len(result))\n"
          ]
        },
        {
          "output_type": "error",
          "ename": "KeyboardInterrupt",
          "evalue": "",
          "traceback": [
            "\u001b[0;31m---------------------------------------------------------------------------\u001b[0m",
            "\u001b[0;31mKeyboardInterrupt\u001b[0m                         Traceback (most recent call last)",
            "\u001b[0;32m<ipython-input-36-6eeae3d27099>\u001b[0m in \u001b[0;36m<cell line: 0>\u001b[0;34m()\u001b[0m\n\u001b[1;32m      5\u001b[0m \u001b[0mprint\u001b[0m\u001b[0;34m(\u001b[0m\u001b[0;34m\"F1 Score (micro):\"\u001b[0m\u001b[0;34m,\u001b[0m \u001b[0mf1_score\u001b[0m\u001b[0;34m(\u001b[0m\u001b[0my_test\u001b[0m\u001b[0;34m,\u001b[0m \u001b[0mtest_pred\u001b[0m\u001b[0;34m,\u001b[0m \u001b[0maverage\u001b[0m\u001b[0;34m=\u001b[0m\u001b[0;34m'micro'\u001b[0m\u001b[0;34m)\u001b[0m\u001b[0;34m)\u001b[0m\u001b[0;34m\u001b[0m\u001b[0;34m\u001b[0m\u001b[0m\n\u001b[1;32m      6\u001b[0m \u001b[0;34m\u001b[0m\u001b[0m\n\u001b[0;32m----> 7\u001b[0;31m \u001b[0my_prob\u001b[0m \u001b[0;34m=\u001b[0m \u001b[0mmulti_output_model_adaboost\u001b[0m\u001b[0;34m.\u001b[0m\u001b[0mpredict_proba\u001b[0m\u001b[0;34m(\u001b[0m\u001b[0mX_test\u001b[0m\u001b[0;34m)\u001b[0m\u001b[0;34m\u001b[0m\u001b[0;34m\u001b[0m\u001b[0m\n\u001b[0m\u001b[1;32m      8\u001b[0m \u001b[0my_prob\u001b[0m \u001b[0;34m=\u001b[0m \u001b[0mnp\u001b[0m\u001b[0;34m.\u001b[0m\u001b[0marray\u001b[0m\u001b[0;34m(\u001b[0m\u001b[0;34m[\u001b[0m\u001b[0;34m[\u001b[0m\u001b[0mcls\u001b[0m\u001b[0;34m[\u001b[0m\u001b[0;36m1\u001b[0m\u001b[0;34m]\u001b[0m \u001b[0;32mfor\u001b[0m \u001b[0mcls\u001b[0m \u001b[0;32min\u001b[0m \u001b[0msample\u001b[0m\u001b[0;34m]\u001b[0m \u001b[0;32mfor\u001b[0m \u001b[0msample\u001b[0m \u001b[0;32min\u001b[0m \u001b[0my_prob\u001b[0m\u001b[0;34m]\u001b[0m\u001b[0;34m)\u001b[0m\u001b[0;34m\u001b[0m\u001b[0;34m\u001b[0m\u001b[0m\n\u001b[1;32m      9\u001b[0m \u001b[0my_prob\u001b[0m \u001b[0;34m=\u001b[0m \u001b[0mnp\u001b[0m\u001b[0;34m.\u001b[0m\u001b[0mswapaxes\u001b[0m\u001b[0;34m(\u001b[0m\u001b[0my_prob\u001b[0m\u001b[0;34m,\u001b[0m \u001b[0;36m0\u001b[0m\u001b[0;34m,\u001b[0m \u001b[0;36m1\u001b[0m\u001b[0;34m)\u001b[0m\u001b[0;34m\u001b[0m\u001b[0;34m\u001b[0m\u001b[0m\n",
            "\u001b[0;32m/usr/local/lib/python3.11/dist-packages/sklearn/multioutput.py\u001b[0m in \u001b[0;36mpredict_proba\u001b[0;34m(self, X)\u001b[0m\n\u001b[1;32m    581\u001b[0m         \"\"\"\n\u001b[1;32m    582\u001b[0m         \u001b[0mcheck_is_fitted\u001b[0m\u001b[0;34m(\u001b[0m\u001b[0mself\u001b[0m\u001b[0;34m)\u001b[0m\u001b[0;34m\u001b[0m\u001b[0;34m\u001b[0m\u001b[0m\n\u001b[0;32m--> 583\u001b[0;31m         \u001b[0mresults\u001b[0m \u001b[0;34m=\u001b[0m \u001b[0;34m[\u001b[0m\u001b[0mestimator\u001b[0m\u001b[0;34m.\u001b[0m\u001b[0mpredict_proba\u001b[0m\u001b[0;34m(\u001b[0m\u001b[0mX\u001b[0m\u001b[0;34m)\u001b[0m \u001b[0;32mfor\u001b[0m \u001b[0mestimator\u001b[0m \u001b[0;32min\u001b[0m \u001b[0mself\u001b[0m\u001b[0;34m.\u001b[0m\u001b[0mestimators_\u001b[0m\u001b[0;34m]\u001b[0m\u001b[0;34m\u001b[0m\u001b[0;34m\u001b[0m\u001b[0m\n\u001b[0m\u001b[1;32m    584\u001b[0m         \u001b[0;32mreturn\u001b[0m \u001b[0mresults\u001b[0m\u001b[0;34m\u001b[0m\u001b[0;34m\u001b[0m\u001b[0m\n\u001b[1;32m    585\u001b[0m \u001b[0;34m\u001b[0m\u001b[0m\n",
            "\u001b[0;32m/usr/local/lib/python3.11/dist-packages/sklearn/multioutput.py\u001b[0m in \u001b[0;36m<listcomp>\u001b[0;34m(.0)\u001b[0m\n\u001b[1;32m    581\u001b[0m         \"\"\"\n\u001b[1;32m    582\u001b[0m         \u001b[0mcheck_is_fitted\u001b[0m\u001b[0;34m(\u001b[0m\u001b[0mself\u001b[0m\u001b[0;34m)\u001b[0m\u001b[0;34m\u001b[0m\u001b[0;34m\u001b[0m\u001b[0m\n\u001b[0;32m--> 583\u001b[0;31m         \u001b[0mresults\u001b[0m \u001b[0;34m=\u001b[0m \u001b[0;34m[\u001b[0m\u001b[0mestimator\u001b[0m\u001b[0;34m.\u001b[0m\u001b[0mpredict_proba\u001b[0m\u001b[0;34m(\u001b[0m\u001b[0mX\u001b[0m\u001b[0;34m)\u001b[0m \u001b[0;32mfor\u001b[0m \u001b[0mestimator\u001b[0m \u001b[0;32min\u001b[0m \u001b[0mself\u001b[0m\u001b[0;34m.\u001b[0m\u001b[0mestimators_\u001b[0m\u001b[0;34m]\u001b[0m\u001b[0;34m\u001b[0m\u001b[0;34m\u001b[0m\u001b[0m\n\u001b[0m\u001b[1;32m    584\u001b[0m         \u001b[0;32mreturn\u001b[0m \u001b[0mresults\u001b[0m\u001b[0;34m\u001b[0m\u001b[0;34m\u001b[0m\u001b[0m\n\u001b[1;32m    585\u001b[0m \u001b[0;34m\u001b[0m\u001b[0m\n",
            "\u001b[0;32m/usr/local/lib/python3.11/dist-packages/sklearn/ensemble/_weight_boosting.py\u001b[0m in \u001b[0;36mpredict_proba\u001b[0;34m(self, X)\u001b[0m\n\u001b[1;32m    810\u001b[0m             \u001b[0;32mreturn\u001b[0m \u001b[0mnp\u001b[0m\u001b[0;34m.\u001b[0m\u001b[0mones\u001b[0m\u001b[0;34m(\u001b[0m\u001b[0;34m(\u001b[0m\u001b[0m_num_samples\u001b[0m\u001b[0;34m(\u001b[0m\u001b[0mX\u001b[0m\u001b[0;34m)\u001b[0m\u001b[0;34m,\u001b[0m \u001b[0;36m1\u001b[0m\u001b[0;34m)\u001b[0m\u001b[0;34m)\u001b[0m\u001b[0;34m\u001b[0m\u001b[0;34m\u001b[0m\u001b[0m\n\u001b[1;32m    811\u001b[0m \u001b[0;34m\u001b[0m\u001b[0m\n\u001b[0;32m--> 812\u001b[0;31m         \u001b[0mdecision\u001b[0m \u001b[0;34m=\u001b[0m \u001b[0mself\u001b[0m\u001b[0;34m.\u001b[0m\u001b[0mdecision_function\u001b[0m\u001b[0;34m(\u001b[0m\u001b[0mX\u001b[0m\u001b[0;34m)\u001b[0m\u001b[0;34m\u001b[0m\u001b[0;34m\u001b[0m\u001b[0m\n\u001b[0m\u001b[1;32m    813\u001b[0m         \u001b[0;32mreturn\u001b[0m \u001b[0mself\u001b[0m\u001b[0;34m.\u001b[0m\u001b[0m_compute_proba_from_decision\u001b[0m\u001b[0;34m(\u001b[0m\u001b[0mdecision\u001b[0m\u001b[0;34m,\u001b[0m \u001b[0mn_classes\u001b[0m\u001b[0;34m)\u001b[0m\u001b[0;34m\u001b[0m\u001b[0;34m\u001b[0m\u001b[0m\n\u001b[1;32m    814\u001b[0m \u001b[0;34m\u001b[0m\u001b[0m\n",
            "\u001b[0;32m/usr/local/lib/python3.11/dist-packages/sklearn/ensemble/_weight_boosting.py\u001b[0m in \u001b[0;36mdecision_function\u001b[0;34m(self, X)\u001b[0m\n\u001b[1;32m    700\u001b[0m             \u001b[0;32mreturn\u001b[0m \u001b[0mnp\u001b[0m\u001b[0;34m.\u001b[0m\u001b[0mzeros_like\u001b[0m\u001b[0;34m(\u001b[0m\u001b[0mX\u001b[0m\u001b[0;34m,\u001b[0m \u001b[0mshape\u001b[0m\u001b[0;34m=\u001b[0m\u001b[0;34m(\u001b[0m\u001b[0mX\u001b[0m\u001b[0;34m.\u001b[0m\u001b[0mshape\u001b[0m\u001b[0;34m[\u001b[0m\u001b[0;36m0\u001b[0m\u001b[0;34m]\u001b[0m\u001b[0;34m,\u001b[0m \u001b[0;36m1\u001b[0m\u001b[0;34m)\u001b[0m\u001b[0;34m)\u001b[0m\u001b[0;34m\u001b[0m\u001b[0;34m\u001b[0m\u001b[0m\n\u001b[1;32m    701\u001b[0m \u001b[0;34m\u001b[0m\u001b[0m\n\u001b[0;32m--> 702\u001b[0;31m         pred = sum(\n\u001b[0m\u001b[1;32m    703\u001b[0m             np.where(\n\u001b[1;32m    704\u001b[0m                 \u001b[0;34m(\u001b[0m\u001b[0mestimator\u001b[0m\u001b[0;34m.\u001b[0m\u001b[0mpredict\u001b[0m\u001b[0;34m(\u001b[0m\u001b[0mX\u001b[0m\u001b[0;34m)\u001b[0m \u001b[0;34m==\u001b[0m \u001b[0mclasses\u001b[0m\u001b[0;34m)\u001b[0m\u001b[0;34m.\u001b[0m\u001b[0mT\u001b[0m\u001b[0;34m,\u001b[0m\u001b[0;34m\u001b[0m\u001b[0;34m\u001b[0m\u001b[0m\n",
            "\u001b[0;32m/usr/local/lib/python3.11/dist-packages/sklearn/ensemble/_weight_boosting.py\u001b[0m in \u001b[0;36m<genexpr>\u001b[0;34m(.0)\u001b[0m\n\u001b[1;32m    702\u001b[0m         pred = sum(\n\u001b[1;32m    703\u001b[0m             np.where(\n\u001b[0;32m--> 704\u001b[0;31m                 \u001b[0;34m(\u001b[0m\u001b[0mestimator\u001b[0m\u001b[0;34m.\u001b[0m\u001b[0mpredict\u001b[0m\u001b[0;34m(\u001b[0m\u001b[0mX\u001b[0m\u001b[0;34m)\u001b[0m \u001b[0;34m==\u001b[0m \u001b[0mclasses\u001b[0m\u001b[0;34m)\u001b[0m\u001b[0;34m.\u001b[0m\u001b[0mT\u001b[0m\u001b[0;34m,\u001b[0m\u001b[0;34m\u001b[0m\u001b[0;34m\u001b[0m\u001b[0m\n\u001b[0m\u001b[1;32m    705\u001b[0m                 \u001b[0mw\u001b[0m\u001b[0;34m,\u001b[0m\u001b[0;34m\u001b[0m\u001b[0;34m\u001b[0m\u001b[0m\n\u001b[1;32m    706\u001b[0m                 \u001b[0;34m-\u001b[0m\u001b[0;36m1\u001b[0m \u001b[0;34m/\u001b[0m \u001b[0;34m(\u001b[0m\u001b[0mn_classes\u001b[0m \u001b[0;34m-\u001b[0m \u001b[0;36m1\u001b[0m\u001b[0;34m)\u001b[0m \u001b[0;34m*\u001b[0m \u001b[0mw\u001b[0m\u001b[0;34m,\u001b[0m\u001b[0;34m\u001b[0m\u001b[0;34m\u001b[0m\u001b[0m\n",
            "\u001b[0;32m/usr/local/lib/python3.11/dist-packages/sklearn/svm/_base.py\u001b[0m in \u001b[0;36mpredict\u001b[0;34m(self, X)\u001b[0m\n\u001b[1;32m    820\u001b[0m             \u001b[0my\u001b[0m \u001b[0;34m=\u001b[0m \u001b[0mnp\u001b[0m\u001b[0;34m.\u001b[0m\u001b[0margmax\u001b[0m\u001b[0;34m(\u001b[0m\u001b[0mself\u001b[0m\u001b[0;34m.\u001b[0m\u001b[0mdecision_function\u001b[0m\u001b[0;34m(\u001b[0m\u001b[0mX\u001b[0m\u001b[0;34m)\u001b[0m\u001b[0;34m,\u001b[0m \u001b[0maxis\u001b[0m\u001b[0;34m=\u001b[0m\u001b[0;36m1\u001b[0m\u001b[0;34m)\u001b[0m\u001b[0;34m\u001b[0m\u001b[0;34m\u001b[0m\u001b[0m\n\u001b[1;32m    821\u001b[0m         \u001b[0;32melse\u001b[0m\u001b[0;34m:\u001b[0m\u001b[0;34m\u001b[0m\u001b[0;34m\u001b[0m\u001b[0m\n\u001b[0;32m--> 822\u001b[0;31m             \u001b[0my\u001b[0m \u001b[0;34m=\u001b[0m \u001b[0msuper\u001b[0m\u001b[0;34m(\u001b[0m\u001b[0;34m)\u001b[0m\u001b[0;34m.\u001b[0m\u001b[0mpredict\u001b[0m\u001b[0;34m(\u001b[0m\u001b[0mX\u001b[0m\u001b[0;34m)\u001b[0m\u001b[0;34m\u001b[0m\u001b[0;34m\u001b[0m\u001b[0m\n\u001b[0m\u001b[1;32m    823\u001b[0m         \u001b[0;32mreturn\u001b[0m \u001b[0mself\u001b[0m\u001b[0;34m.\u001b[0m\u001b[0mclasses_\u001b[0m\u001b[0;34m.\u001b[0m\u001b[0mtake\u001b[0m\u001b[0;34m(\u001b[0m\u001b[0mnp\u001b[0m\u001b[0;34m.\u001b[0m\u001b[0masarray\u001b[0m\u001b[0;34m(\u001b[0m\u001b[0my\u001b[0m\u001b[0;34m,\u001b[0m \u001b[0mdtype\u001b[0m\u001b[0;34m=\u001b[0m\u001b[0mnp\u001b[0m\u001b[0;34m.\u001b[0m\u001b[0mintp\u001b[0m\u001b[0;34m)\u001b[0m\u001b[0;34m)\u001b[0m\u001b[0;34m\u001b[0m\u001b[0;34m\u001b[0m\u001b[0m\n\u001b[1;32m    824\u001b[0m \u001b[0;34m\u001b[0m\u001b[0m\n",
            "\u001b[0;32m/usr/local/lib/python3.11/dist-packages/sklearn/svm/_base.py\u001b[0m in \u001b[0;36mpredict\u001b[0;34m(self, X)\u001b[0m\n\u001b[1;32m    436\u001b[0m         \u001b[0mX\u001b[0m \u001b[0;34m=\u001b[0m \u001b[0mself\u001b[0m\u001b[0;34m.\u001b[0m\u001b[0m_validate_for_predict\u001b[0m\u001b[0;34m(\u001b[0m\u001b[0mX\u001b[0m\u001b[0;34m)\u001b[0m\u001b[0;34m\u001b[0m\u001b[0;34m\u001b[0m\u001b[0m\n\u001b[1;32m    437\u001b[0m         \u001b[0mpredict\u001b[0m \u001b[0;34m=\u001b[0m \u001b[0mself\u001b[0m\u001b[0;34m.\u001b[0m\u001b[0m_sparse_predict\u001b[0m \u001b[0;32mif\u001b[0m \u001b[0mself\u001b[0m\u001b[0;34m.\u001b[0m\u001b[0m_sparse\u001b[0m \u001b[0;32melse\u001b[0m \u001b[0mself\u001b[0m\u001b[0;34m.\u001b[0m\u001b[0m_dense_predict\u001b[0m\u001b[0;34m\u001b[0m\u001b[0;34m\u001b[0m\u001b[0m\n\u001b[0;32m--> 438\u001b[0;31m         \u001b[0;32mreturn\u001b[0m \u001b[0mpredict\u001b[0m\u001b[0;34m(\u001b[0m\u001b[0mX\u001b[0m\u001b[0;34m)\u001b[0m\u001b[0;34m\u001b[0m\u001b[0;34m\u001b[0m\u001b[0m\n\u001b[0m\u001b[1;32m    439\u001b[0m \u001b[0;34m\u001b[0m\u001b[0m\n\u001b[1;32m    440\u001b[0m     \u001b[0;32mdef\u001b[0m \u001b[0m_dense_predict\u001b[0m\u001b[0;34m(\u001b[0m\u001b[0mself\u001b[0m\u001b[0;34m,\u001b[0m \u001b[0mX\u001b[0m\u001b[0;34m)\u001b[0m\u001b[0;34m:\u001b[0m\u001b[0;34m\u001b[0m\u001b[0;34m\u001b[0m\u001b[0m\n",
            "\u001b[0;32m/usr/local/lib/python3.11/dist-packages/sklearn/svm/_base.py\u001b[0m in \u001b[0;36m_dense_predict\u001b[0;34m(self, X)\u001b[0m\n\u001b[1;32m    455\u001b[0m         \u001b[0msvm_type\u001b[0m \u001b[0;34m=\u001b[0m \u001b[0mLIBSVM_IMPL\u001b[0m\u001b[0;34m.\u001b[0m\u001b[0mindex\u001b[0m\u001b[0;34m(\u001b[0m\u001b[0mself\u001b[0m\u001b[0;34m.\u001b[0m\u001b[0m_impl\u001b[0m\u001b[0;34m)\u001b[0m\u001b[0;34m\u001b[0m\u001b[0;34m\u001b[0m\u001b[0m\n\u001b[1;32m    456\u001b[0m \u001b[0;34m\u001b[0m\u001b[0m\n\u001b[0;32m--> 457\u001b[0;31m         return libsvm.predict(\n\u001b[0m\u001b[1;32m    458\u001b[0m             \u001b[0mX\u001b[0m\u001b[0;34m,\u001b[0m\u001b[0;34m\u001b[0m\u001b[0;34m\u001b[0m\u001b[0m\n\u001b[1;32m    459\u001b[0m             \u001b[0mself\u001b[0m\u001b[0;34m.\u001b[0m\u001b[0msupport_\u001b[0m\u001b[0;34m,\u001b[0m\u001b[0;34m\u001b[0m\u001b[0;34m\u001b[0m\u001b[0m\n",
            "\u001b[0;31mKeyboardInterrupt\u001b[0m: "
          ]
        }
      ]
    },
    {
      "cell_type": "code",
      "source": [
        "model_file_path = \"/content/drive/Shareddrives/ML Sem 6 Assignment 1/nlp on research articles classification/ensemble/multi_output_model_adaboost_svm.pkl\"\n",
        "with open(model_file_path, 'wb') as f:\n",
        "    pickle.dump(multi_output_model_adaboost, f)"
      ],
      "metadata": {
        "id": "xT6HiyYi-dYD"
      },
      "execution_count": null,
      "outputs": []
    },
    {
      "cell_type": "markdown",
      "source": [
        "# Adaboost"
      ],
      "metadata": {
        "id": "jDxmb1B7XwS0"
      }
    },
    {
      "cell_type": "code",
      "source": [
        "rf_model = MultiOutputClassifier(RandomForestClassifier(n_estimators=5, random_state=22))\n",
        "rf_model.fit(X_train, y_train)\n",
        "\n",
        "train_pred = rf_model.predict(X_train)\n",
        "test_pred = rf_model.predict(X_test)\n",
        "\n",
        "train_accuracy = accuracy_score(y_train, train_pred)\n",
        "test_accuracy = accuracy_score(y_test, test_pred)\n",
        "\n",
        "print(f\"Train Accuracy: {train_accuracy}\")\n",
        "print(f\"Test Accuracy: {test_accuracy}\")"
      ],
      "metadata": {
        "colab": {
          "base_uri": "https://localhost:8080/"
        },
        "id": "zcCqBQQiXvpm",
        "outputId": "73bc065b-5ca5-47c7-f811-168347c79b78"
      },
      "execution_count": 42,
      "outputs": [
        {
          "output_type": "stream",
          "name": "stdout",
          "text": [
            "Train Accuracy: 0.9390236633486321\n",
            "Test Accuracy: 0.5744934445768772\n"
          ]
        }
      ]
    },
    {
      "cell_type": "code",
      "source": [
        "adaboost_model = MultiOutputClassifier(AdaBoostClassifier(n_estimators=10, random_state=22))\n",
        "adaboost_model.fit(X_train, y_train)\n",
        "\n",
        "train_pred = adaboost_model.predict(X_train)\n",
        "test_pred = adaboost_model.predict(X_test)\n",
        "\n",
        "train_accuracy = accuracy_score(y_train, train_pred)\n",
        "test_accuracy = accuracy_score(y_test, test_pred)\n",
        "\n",
        "print(f\"Train Accuracy: {train_accuracy}\")\n",
        "print(f\"Test Accuracy: {test_accuracy}\")"
      ],
      "metadata": {
        "colab": {
          "base_uri": "https://localhost:8080/"
        },
        "id": "8jJFoU_mYQ8h",
        "outputId": "9dfe0976-aeaa-4f28-980b-749a27c45a7f"
      },
      "execution_count": 43,
      "outputs": [
        {
          "output_type": "stream",
          "name": "stdout",
          "text": [
            "Train Accuracy: 0.5441378077129403\n",
            "Test Accuracy: 0.5463647199046484\n"
          ]
        }
      ]
    },
    {
      "cell_type": "code",
      "source": [
        "\n",
        "print(\"Classification Metrics:\")\n",
        "print(\"Accuracy:\", accuracy_score(y_test, test_pred))\n",
        "print(\"Precision (micro):\", precision_score(y_test, test_pred, average='micro'))\n",
        "print(\"Recall (micro):\", recall_score(y_test, test_pred, average='micro'))\n",
        "print(\"F1 Score (micro):\", f1_score(y_test, test_pred, average='micro'))\n",
        "\n",
        "y_prob = adaboost_model.predict_proba(X_test)\n",
        "y_prob = np.array([[cls[1] for cls in sample] for sample in y_prob])\n",
        "y_prob = np.swapaxes(y_prob, 0, 1)\n",
        "\n",
        "print(\"ROC AUC (macro):\", roc_auc_score(y_test, y_prob, average='macro', multi_class='ovr'))\n",
        "print(\"Log Loss:\", log_loss(y_test, y_prob))\n",
        "print(\"\\nClassification Report:\\n\", classification_report(y_test, test_pred, zero_division=0))\n",
        "\n",
        "print(\"\\nConfusion Matrices (per class):\")\n",
        "for i in range(y_test.shape[1]):\n",
        "    print(f\"Class {i+1}:\\n\", confusion_matrix(y_test[:, i], test_pred[:, i]))\n"
      ],
      "metadata": {
        "colab": {
          "base_uri": "https://localhost:8080/"
        },
        "id": "fqAQu-9xZBBu",
        "outputId": "c787940c-440f-4f7f-eeab-ce0478d642d8"
      },
      "execution_count": 44,
      "outputs": [
        {
          "output_type": "stream",
          "name": "stdout",
          "text": [
            "Classification Metrics:\n",
            "Accuracy: 0.5463647199046484\n",
            "Precision (micro): 0.7666531275385865\n",
            "Recall (micro): 0.7117269984917044\n",
            "F1 Score (micro): 0.7381697301525225\n",
            "ROC AUC (macro): 0.8821191844788429\n",
            "Log Loss: 0.7331947165362701\n",
            "\n",
            "Classification Report:\n",
            "               precision    recall  f1-score   support\n",
            "\n",
            "           0       0.73      0.82      0.77      1692\n",
            "           1       0.86      0.78      0.82      1226\n",
            "           2       0.81      0.68      0.74      1150\n",
            "           3       0.69      0.61      0.65      1069\n",
            "           4       0.00      0.00      0.00       122\n",
            "           5       0.00      0.00      0.00        45\n",
            "\n",
            "   micro avg       0.77      0.71      0.74      5304\n",
            "   macro avg       0.51      0.48      0.50      5304\n",
            "weighted avg       0.75      0.71      0.73      5304\n",
            " samples avg       0.73      0.74      0.71      5304\n",
            "\n",
            "\n",
            "Confusion Matrices (per class):\n",
            "Class 1:\n",
            " [[1996  507]\n",
            " [ 309 1383]]\n",
            "Class 2:\n",
            " [[2814  155]\n",
            " [ 275  951]]\n",
            "Class 3:\n",
            " [[2855  190]\n",
            " [ 363  787]]\n",
            "Class 4:\n",
            " [[2829  297]\n",
            " [ 415  654]]\n",
            "Class 5:\n",
            " [[4073    0]\n",
            " [ 122    0]]\n",
            "Class 6:\n",
            " [[4150    0]\n",
            " [  45    0]]\n"
          ]
        },
        {
          "output_type": "stream",
          "name": "stderr",
          "text": [
            "/usr/local/lib/python3.11/dist-packages/sklearn/metrics/_classification.py:3001: UserWarning: The y_pred values do not sum to one. Make sure to pass probabilities.\n",
            "  warnings.warn(\n"
          ]
        }
      ]
    },
    {
      "cell_type": "code",
      "source": [
        "model_file_path = \"/content/drive/Shareddrives/ML Sem 6 Assignment 1/nlp on research articles classification/ensemble/adaboost_model.pkl\"\n",
        "with open(model_file_path, 'wb') as f:\n",
        "    pickle.dump(adaboost_model, f)"
      ],
      "metadata": {
        "id": "uduWbcFlZU_B"
      },
      "execution_count": 45,
      "outputs": []
    },
    {
      "cell_type": "markdown",
      "source": [
        "# Voting Base"
      ],
      "metadata": {
        "id": "94BQlkHUyri_"
      }
    },
    {
      "cell_type": "code",
      "source": [
        "lr = LogisticRegression(max_iter=1000)\n",
        "dt = DecisionTreeClassifier()\n",
        "svc = SVC(probability=True)\n",
        "\n",
        "voting_clf = VotingClassifier(\n",
        "    estimators=[('lr', lr), ('dt', dt), ('svc', svc)], voting='soft')\n",
        "\n",
        "multi_voting_clf = MultiOutputClassifier(voting_clf)\n",
        "\n",
        "multi_voting_clf.fit(X_train, y_train)\n",
        "\n",
        "test_pred = multi_voting_clf.predict(X_test)\n",
        "train_pred = multi_voting_clf.predict(X_train)"
      ],
      "metadata": {
        "id": "oQeIptDpyuj_"
      },
      "execution_count": null,
      "outputs": []
    },
    {
      "cell_type": "code",
      "source": [
        "train_accuracy = accuracy_score(y_train, train_pred)\n",
        "test_accuracy = accuracy_score(y_test, test_pred)\n",
        "\n",
        "print(f\"Train Accuracy: {train_accuracy}\")\n",
        "print(f\"Test Accuracy: {test_accuracy}\")"
      ],
      "metadata": {
        "colab": {
          "base_uri": "https://localhost:8080/"
        },
        "id": "CHHumO_ryyB0",
        "outputId": "568c4cf3-7a70-4562-a31d-60a9b8d7675e"
      },
      "execution_count": 56,
      "outputs": [
        {
          "output_type": "stream",
          "name": "stdout",
          "text": [
            "Train Accuracy: 0.8022292424152113\n",
            "Test Accuracy: 0.601668653158522\n"
          ]
        }
      ]
    },
    {
      "cell_type": "code",
      "source": [
        "print(\"Classification Metrics:\")\n",
        "print(\"Accuracy:\", accuracy_score(y_test, test_pred))\n",
        "print(\"Precision (micro):\", precision_score(y_test, test_pred, average='micro'))\n",
        "print(\"Recall (micro):\", recall_score(y_test, test_pred, average='micro'))\n",
        "print(\"F1 Score (micro):\", f1_score(y_test, test_pred, average='micro'))\n",
        "\n",
        "y_prob = multi_voting_clf.predict_proba(X_test)\n",
        "y_prob = np.array([[cls[1] for cls in sample] for sample in y_prob])\n",
        "y_prob = np.swapaxes(y_prob, 0, 1)\n",
        "\n",
        "print(\"ROC AUC (macro):\", roc_auc_score(y_test, y_prob, average='macro', multi_class='ovr'))\n",
        "print(\"Log Loss:\", log_loss(y_test, y_prob))\n",
        "print(\"\\nClassification Report:\\n\", classification_report(y_test, test_pred, zero_division=0))\n",
        "\n",
        "print(\"\\nConfusion Matrices (per class):\")\n",
        "for i in range(y_test.shape[1]):\n",
        "    print(f\"Class {i+1}:\\n\", confusion_matrix(y_test[:, i], test_pred[:, i]))"
      ],
      "metadata": {
        "colab": {
          "base_uri": "https://localhost:8080/"
        },
        "id": "g9cvnzPMzByo",
        "outputId": "fee6c566-5e77-4622-ffab-c896d40d47ef"
      },
      "execution_count": 57,
      "outputs": [
        {
          "output_type": "stream",
          "name": "stdout",
          "text": [
            "Classification Metrics:\n",
            "Accuracy: 0.601668653158522\n",
            "Precision (micro): 0.8053677525097316\n",
            "Recall (micro): 0.7411387631975868\n",
            "F1 Score (micro): 0.7719194894452627\n",
            "ROC AUC (macro): 0.9243903277712615\n",
            "Log Loss: 0.7552910457584209\n",
            "\n",
            "Classification Report:\n",
            "               precision    recall  f1-score   support\n",
            "\n",
            "           0       0.78      0.82      0.80      1692\n",
            "           1       0.89      0.81      0.85      1226\n",
            "           2       0.82      0.73      0.77      1150\n",
            "           3       0.76      0.66      0.71      1069\n",
            "           4       0.47      0.06      0.10       122\n",
            "           5       1.00      0.02      0.04        45\n",
            "\n",
            "   micro avg       0.81      0.74      0.77      5304\n",
            "   macro avg       0.78      0.52      0.54      5304\n",
            "weighted avg       0.80      0.74      0.76      5304\n",
            " samples avg       0.79      0.78      0.76      5304\n",
            "\n",
            "\n",
            "Confusion Matrices (per class):\n",
            "Class 1:\n",
            " [[2102  401]\n",
            " [ 310 1382]]\n",
            "Class 2:\n",
            " [[2842  127]\n",
            " [ 231  995]]\n",
            "Class 3:\n",
            " [[2856  189]\n",
            " [ 309  841]]\n",
            "Class 4:\n",
            " [[2901  225]\n",
            " [ 364  705]]\n",
            "Class 5:\n",
            " [[4065    8]\n",
            " [ 115    7]]\n",
            "Class 6:\n",
            " [[4150    0]\n",
            " [  44    1]]\n",
            "/usr/local/lib/python3.11/dist-packages/sklearn/metrics/_classification.py:3001: UserWarning: The y_pred values do not sum to one. Make sure to pass probabilities.\n",
            "  warnings.warn(\n"
          ]
        }
      ]
    },
    {
      "cell_type": "code",
      "source": [
        "model_file_path = \"/content/drive/Shareddrives/ML Sem 6 Assignment 1/nlp on research articles classification/ensemble/votting_classifier_base.pkl\"\n",
        "with open(model_file_path, 'wb') as f:\n",
        "    pickle.dump(multi_voting_clf, f)\n"
      ],
      "metadata": {
        "id": "B1e4GsMCzbpn"
      },
      "execution_count": null,
      "outputs": []
    },
    {
      "cell_type": "markdown",
      "source": [
        "# Voting Classifier Hyperparameter"
      ],
      "metadata": {
        "id": "PHfdeBqaMSaq"
      }
    },
    {
      "cell_type": "code",
      "source": [
        "lr = LogisticRegression(max_iter=1000)\n",
        "dt = DecisionTreeClassifier()\n",
        "svc = SVC(probability=True)\n",
        "\n",
        "voting_clf = VotingClassifier(\n",
        "    estimators=[\n",
        "        ('lr', lr),\n",
        "        ('dt', dt),\n",
        "        ('svc', svc)\n",
        "    ],\n",
        "    voting='soft'\n",
        ")\n",
        "\n",
        "multi_voting_clf = MultiOutputClassifier(voting_clf)\n",
        "\n",
        "param_grid = {\n",
        "    'estimator__lr__C': [0.1, 10],\n",
        "    'estimator__dt__max_depth': [5, 10],\n",
        "    'estimator__svc__C': [0.1, 10],\n",
        "    'estimator__svc__kernel': ['linear', 'rbf']\n",
        "}\n",
        "\n",
        "grid_search = GridSearchCV(estimator=multi_voting_clf, param_grid=param_grid, cv=3, scoring='f1_micro')\n",
        "grid_search.fit(X_train, y_train)\n",
        "\n",
        "best_model = grid_search.best_estimator_\n",
        "\n",
        "test_pred = best_model.predict(X_test)\n",
        "train_pred = best_model.predict(X_train)\n"
      ],
      "metadata": {
        "colab": {
          "base_uri": "https://localhost:8080/"
        },
        "collapsed": true,
        "id": "A3eiYfcqLOOh",
        "outputId": "6657fbeb-9d1f-481a-bd0a-76f671c0d8dc"
      },
      "execution_count": 48,
      "outputs": [
        {
          "output_type": "stream",
          "name": "stdout",
          "text": [
            "Train Accuracy: 0.5441378077129403\n",
            "Test Accuracy: 0.5463647199046484\n"
          ]
        }
      ]
    },
    {
      "cell_type": "code",
      "source": [
        "\n",
        "train_accuracy = accuracy_score(y_train, train_pred)\n",
        "test_accuracy = accuracy_score(y_test, test_pred)\n",
        "\n",
        "print(f\"Train Accuracy: {train_accuracy}\")\n",
        "print(f\"Test Accuracy: {test_accuracy}\")"
      ],
      "metadata": {
        "colab": {
          "base_uri": "https://localhost:8080/"
        },
        "id": "zvp1kMsVw_-D",
        "outputId": "cbf05d97-e708-429f-839c-4bcb8518710b"
      },
      "execution_count": 53,
      "outputs": [
        {
          "output_type": "stream",
          "name": "stdout",
          "text": [
            "Train Accuracy: 0.6538713715205341\n",
            "Test Accuracy: 0.6324195470798569\n"
          ]
        }
      ]
    },
    {
      "cell_type": "code",
      "source": [
        "print(\"Classification Metrics:\")\n",
        "print(\"Accuracy:\", accuracy_score(y_test, test_pred))\n",
        "print(\"Precision (micro):\", precision_score(y_test, test_pred, average='micro'))\n",
        "print(\"Recall (micro):\", recall_score(y_test, test_pred, average='micro'))\n",
        "print(\"F1 Score (micro):\", f1_score(y_test, test_pred, average='micro'))\n",
        "\n",
        "y_prob = best_model.predict_proba(X_test)\n",
        "y_prob = np.array([[cls[1] for cls in sample] for sample in y_prob])\n",
        "y_prob = np.swapaxes(y_prob, 0, 1)\n",
        "\n",
        "print(\"ROC AUC (macro):\", roc_auc_score(y_test, y_prob, average='macro', multi_class='ovr'))\n",
        "print(\"Log Loss:\", log_loss(y_test, y_prob))\n",
        "print(\"\\nClassification Report:\\n\", classification_report(y_test, test_pred, zero_division=0))\n",
        "\n",
        "print(\"\\nConfusion Matrices (per class):\")\n",
        "for i in range(y_test.shape[1]):\n",
        "    print(f\"Class {i+1}:\\n\", confusion_matrix(y_test[:, i], test_pred[:, i]))"
      ],
      "metadata": {
        "colab": {
          "base_uri": "https://localhost:8080/"
        },
        "id": "cOSEzCtbaEl4",
        "outputId": "282e39c4-8f5f-4785-80d0-cc2f96bd1499"
      },
      "execution_count": 54,
      "outputs": [
        {
          "output_type": "stream",
          "name": "stdout",
          "text": [
            "Classification Metrics:\n",
            "Accuracy: 0.6324195470798569\n",
            "Precision (micro): 0.8285714285714286\n",
            "Recall (micro): 0.7490573152337858\n",
            "F1 Score (micro): 0.7868105753044856\n",
            "ROC AUC (macro): 0.9308588085175828\n",
            "Log Loss: 0.712095017195726\n",
            "\n",
            "Classification Report:\n",
            "               precision    recall  f1-score   support\n",
            "\n",
            "           0       0.78      0.85      0.82      1692\n",
            "           1       0.91      0.80      0.85      1226\n",
            "           2       0.86      0.72      0.79      1150\n",
            "           3       0.80      0.67      0.73      1069\n",
            "           4       0.56      0.04      0.08       122\n",
            "           5       0.00      0.00      0.00        45\n",
            "\n",
            "   micro avg       0.83      0.75      0.79      5304\n",
            "   macro avg       0.65      0.51      0.54      5304\n",
            "weighted avg       0.82      0.75      0.78      5304\n",
            " samples avg       0.81      0.78      0.78      5304\n",
            "\n",
            "\n",
            "Confusion Matrices (per class):\n",
            "Class 1:\n",
            " [[2103  400]\n",
            " [ 252 1440]]\n",
            "Class 2:\n",
            " [[2868  101]\n",
            " [ 245  981]]\n",
            "Class 3:\n",
            " [[2911  134]\n",
            " [ 317  833]]\n",
            "Class 4:\n",
            " [[2943  183]\n",
            " [ 355  714]]\n",
            "Class 5:\n",
            " [[4069    4]\n",
            " [ 117    5]]\n",
            "Class 6:\n",
            " [[4150    0]\n",
            " [  45    0]]\n"
          ]
        },
        {
          "output_type": "stream",
          "name": "stderr",
          "text": [
            "/usr/local/lib/python3.11/dist-packages/sklearn/metrics/_classification.py:3001: UserWarning: The y_pred values do not sum to one. Make sure to pass probabilities.\n",
            "  warnings.warn(\n"
          ]
        }
      ]
    },
    {
      "cell_type": "code",
      "source": [
        "model_file_path = \"/content/drive/Shareddrives/ML Sem 6 Assignment 1/nlp on research articles classification/ensemble/votting_classifier_best.pkl\"\n",
        "with open(model_file_path, 'wb') as f:\n",
        "    pickle.dump(best_model, f)\n"
      ],
      "metadata": {
        "id": "DhsDM9tSaJz6"
      },
      "execution_count": 50,
      "outputs": []
    },
    {
      "cell_type": "markdown",
      "source": [
        "# Stacking Base"
      ],
      "metadata": {
        "id": "D02uZMQLMaEx"
      }
    },
    {
      "cell_type": "code",
      "source": [
        "estimators = [\n",
        "    ('rf', RandomForestClassifier(n_estimators=3, random_state=42)),\n",
        "    ('svm', SVC(probability=True, kernel='rbf', C=1.0)),  # Probability=True for soft voting\n",
        "    ('dt', DecisionTreeClassifier(max_depth=4))\n",
        "]\n",
        "\n",
        "meta_learner = LogisticRegression()\n",
        "\n",
        "stacking_model = StackingClassifier(estimators=estimators, final_estimator=meta_learner)\n",
        "\n",
        "multi_output_stacking_model = MultiOutputClassifier(stacking_model)\n",
        "\n",
        "multi_output_stacking_model.fit(X_train, y_train)\n",
        "\n",
        "train_pred = multi_output_stacking_model.predict(X_train)\n",
        "test_pred = multi_output_stacking_model.predict(X_test)\n",
        "\n",
        "train_accuracy = accuracy_score(y_train, train_pred)\n",
        "test_accuracy = accuracy_score(y_test, test_pred)\n",
        "\n",
        "print(f\"Train Accuracy: {train_accuracy}\")\n",
        "print(f\"Test Accuracy: {test_accuracy}\")"
      ],
      "metadata": {
        "colab": {
          "base_uri": "https://localhost:8080/"
        },
        "id": "v1aIVNCqMepH",
        "outputId": "521f9744-2526-4eb5-d026-a59f2b877f1c"
      },
      "execution_count": 58,
      "outputs": [
        {
          "output_type": "stream",
          "name": "stdout",
          "text": [
            "Train Accuracy: 0.6771770876795613\n",
            "Test Accuracy: 0.6407628128724672\n"
          ]
        }
      ]
    },
    {
      "cell_type": "code",
      "source": [
        "print(\"Classification Metrics:\")\n",
        "print(\"Accuracy:\", accuracy_score(y_test, test_pred))\n",
        "print(\"Precision (micro):\", precision_score(y_test, test_pred, average='micro'))\n",
        "print(\"Recall (micro):\", recall_score(y_test, test_pred, average='micro'))\n",
        "print(\"F1 Score (micro):\", f1_score(y_test, test_pred, average='micro'))\n",
        "\n",
        "y_prob = multi_output_stacking_model.predict_proba(X_test)\n",
        "y_prob = np.array([[cls[1] for cls in sample] for sample in y_prob])\n",
        "y_prob = np.swapaxes(y_prob, 0, 1)\n",
        "\n",
        "print(\"ROC AUC (macro):\", roc_auc_score(y_test, y_prob, average='macro', multi_class='ovr'))\n",
        "print(\"Log Loss:\", log_loss(y_test, y_prob))\n",
        "print(\"\\nClassification Report:\\n\", classification_report(y_test, test_pred, zero_division=0))\n",
        "\n",
        "print(\"\\nConfusion Matrices (per class):\")\n",
        "for i in range(y_test.shape[1]):\n",
        "    print(f\"Class {i+1}:\\n\", confusion_matrix(y_test[:, i], test_pred[:, i]))"
      ],
      "metadata": {
        "colab": {
          "base_uri": "https://localhost:8080/"
        },
        "id": "kfLYEkZVwEp9",
        "outputId": "5b66f9eb-f87e-4d21-93b2-903510988fc6"
      },
      "execution_count": 59,
      "outputs": [
        {
          "output_type": "stream",
          "name": "stdout",
          "text": [
            "Classification Metrics:\n",
            "Accuracy: 0.6407628128724672\n",
            "Precision (micro): 0.8349676611725433\n",
            "Recall (micro): 0.754524886877828\n",
            "F1 Score (micro): 0.7927107061503417\n",
            "ROC AUC (macro): 0.924911212122328\n",
            "Log Loss: 0.7740407375208714\n",
            "\n",
            "Classification Report:\n",
            "               precision    recall  f1-score   support\n",
            "\n",
            "           0       0.80      0.84      0.82      1692\n",
            "           1       0.90      0.82      0.86      1226\n",
            "           2       0.86      0.73      0.79      1150\n",
            "           3       0.80      0.68      0.74      1069\n",
            "           4       0.50      0.08      0.14       122\n",
            "           5       1.00      0.04      0.09        45\n",
            "\n",
            "   micro avg       0.83      0.75      0.79      5304\n",
            "   macro avg       0.81      0.53      0.57      5304\n",
            "weighted avg       0.83      0.75      0.78      5304\n",
            " samples avg       0.82      0.79      0.79      5304\n",
            "\n",
            "\n",
            "Confusion Matrices (per class):\n",
            "Class 1:\n",
            " [[2144  359]\n",
            " [ 272 1420]]\n",
            "Class 2:\n",
            " [[2859  110]\n",
            " [ 225 1001]]\n",
            "Class 3:\n",
            " [[2910  135]\n",
            " [ 311  839]]\n",
            "Class 4:\n",
            " [[2949  177]\n",
            " [ 339  730]]\n",
            "Class 5:\n",
            " [[4063   10]\n",
            " [ 112   10]]\n",
            "Class 6:\n",
            " [[4150    0]\n",
            " [  43    2]]\n"
          ]
        },
        {
          "output_type": "stream",
          "name": "stderr",
          "text": [
            "/usr/local/lib/python3.11/dist-packages/sklearn/metrics/_classification.py:3001: UserWarning: The y_pred values do not sum to one. Make sure to pass probabilities.\n",
            "  warnings.warn(\n"
          ]
        }
      ]
    },
    {
      "cell_type": "code",
      "source": [
        "model_file_path = \"/content/drive/Shareddrives/ML Sem 6 Assignment 1/nlp on research articles classification/ensemble/multi_output_stacking_model_base.pkl\"\n",
        "with open(model_file_path, 'wb') as f:\n",
        "    pickle.dump(multi_output_stacking_model, f)\n"
      ],
      "metadata": {
        "id": "pxQ4TAm6wHPS"
      },
      "execution_count": 60,
      "outputs": []
    },
    {
      "cell_type": "markdown",
      "source": [
        "# CV\n"
      ],
      "metadata": {
        "id": "slw72qlQ8PEr"
      }
    },
    {
      "cell_type": "code",
      "source": [
        "# prompt: take each saved model from the ensemble drive.. find its cross validation scores.. print it.. i dont want other performance metrics.. only cv... mean cv f1 cv\n",
        "\n",
        "import pickle\n",
        "import os\n",
        "from sklearn.model_selection import cross_val_score\n",
        "\n",
        "# Assuming your models are saved in the specified directory\n",
        "ensemble_dir = \"/content/drive/Shareddrives/ML Sem 6 Assignment 1/nlp on research articles classification/ensemble/\"\n",
        "\n",
        "for filename in os.listdir(ensemble_dir):\n",
        "    if filename.endswith(\".pkl\"):\n",
        "        model_path = os.path.join(ensemble_dir, filename)\n",
        "        print(f\"Processing model: {filename}\")\n",
        "\n",
        "        try:\n",
        "          with open(model_path, 'rb') as f:\n",
        "              model = pickle.load(f)\n",
        "          cv_scores = cross_val_score(model, X_train, y_train, cv=3, scoring='f1_micro')\n",
        "          print(f\"Cross-validation scores (f1_micro): {cv_scores}\")\n",
        "          print(f\"Mean CV f1 score: {cv_scores.mean()}\")\n",
        "        except Exception as e:\n",
        "          print(f\"Error processing {filename}: {e}\")\n",
        "          continue\n"
      ],
      "metadata": {
        "colab": {
          "base_uri": "https://localhost:8080/"
        },
        "id": "jYpOw6tO8OV0",
        "outputId": "c7849e51-cb9e-465f-d140-bdc8f59d5f11"
      },
      "execution_count": 62,
      "outputs": [
        {
          "output_type": "stream",
          "name": "stdout",
          "text": [
            "Processing model: tfidf_vectorizer.pkl\n",
            "Error processing tfidf_vectorizer.pkl: \n",
            "All the 3 fits failed.\n",
            "It is very likely that your model is misconfigured.\n",
            "You can try to debug the error by setting error_score='raise'.\n",
            "\n",
            "Below are more details about the failures:\n",
            "--------------------------------------------------------------------------------\n",
            "3 fits failed with the following error:\n",
            "Traceback (most recent call last):\n",
            "  File \"/usr/local/lib/python3.11/dist-packages/sklearn/model_selection/_validation.py\", line 866, in _fit_and_score\n",
            "    estimator.fit(X_train, y_train, **fit_params)\n",
            "  File \"/usr/local/lib/python3.11/dist-packages/sklearn/base.py\", line 1389, in wrapper\n",
            "    return fit_method(estimator, *args, **kwargs)\n",
            "           ^^^^^^^^^^^^^^^^^^^^^^^^^^^^^^^^^^^^^^\n",
            "  File \"/usr/local/lib/python3.11/dist-packages/sklearn/feature_extraction/text.py\", line 2074, in fit\n",
            "    X = super().fit_transform(raw_documents)\n",
            "        ^^^^^^^^^^^^^^^^^^^^^^^^^^^^^^^^^^^^\n",
            "  File \"/usr/local/lib/python3.11/dist-packages/sklearn/base.py\", line 1389, in wrapper\n",
            "    return fit_method(estimator, *args, **kwargs)\n",
            "           ^^^^^^^^^^^^^^^^^^^^^^^^^^^^^^^^^^^^^^\n",
            "  File \"/usr/local/lib/python3.11/dist-packages/sklearn/feature_extraction/text.py\", line 1376, in fit_transform\n",
            "    vocabulary, X = self._count_vocab(raw_documents, self.fixed_vocabulary_)\n",
            "                    ^^^^^^^^^^^^^^^^^^^^^^^^^^^^^^^^^^^^^^^^^^^^^^^^^^^^^^^^\n",
            "  File \"/usr/local/lib/python3.11/dist-packages/sklearn/feature_extraction/text.py\", line 1263, in _count_vocab\n",
            "    for feature in analyze(doc):\n",
            "                   ^^^^^^^^^^^^\n",
            "  File \"/usr/local/lib/python3.11/dist-packages/sklearn/feature_extraction/text.py\", line 104, in _analyze\n",
            "    doc = preprocessor(doc)\n",
            "          ^^^^^^^^^^^^^^^^^\n",
            "  File \"/usr/local/lib/python3.11/dist-packages/sklearn/feature_extraction/text.py\", line 62, in _preprocess\n",
            "    doc = doc.lower()\n",
            "          ^^^^^^^^^\n",
            "AttributeError: 'numpy.ndarray' object has no attribute 'lower'\n",
            "\n",
            "Processing model: multi_output_model_bagging.pkl\n",
            "Cross-validation scores (f1_micro): [0.77946515 0.77422711 0.78183437]\n",
            "Mean CV f1 score: 0.7785088761220843\n",
            "Processing model: multi_output_model_bagging_best.pkl\n",
            "Cross-validation scores (f1_micro): [0.77946515 0.77422711 0.78183437]\n",
            "Mean CV f1 score: 0.7785088761220843\n",
            "Processing model: multi_output_model_bagging_svm.pkl\n",
            "Cross-validation scores (f1_micro): [0.79925401 0.79145822 0.79484103]\n",
            "Mean CV f1 score: 0.7951844219790404\n",
            "Processing model: adaboost_model.pkl\n",
            "Cross-validation scores (f1_micro): [0.74113554 0.72694664 0.73670942]\n",
            "Mean CV f1 score: 0.7349305359688207\n",
            "Processing model: votting_classifier_best.pkl\n",
            "Cross-validation scores (f1_micro): [0.79707768 0.78704466 0.79281706]\n",
            "Mean CV f1 score: 0.792313131688641\n",
            "Processing model: multi_output_stacking_model_base.pkl\n",
            "Cross-validation scores (f1_micro): [0.79796696 0.7898719  0.79313201]\n",
            "Mean CV f1 score: 0.7936569588736274\n"
          ]
        }
      ]
    },
    {
      "cell_type": "code",
      "source": [
        "with open(\"/content/drive/Shareddrives/ML Sem 6 Assignment 1/nlp on research articles classification/ensemble/votting_classifier_base.pkl\", 'rb') as f:\n",
        "    model = pickle.load(f)\n",
        "cv_scores = cross_val_score(model, X_train, y_train, cv=3, scoring='f1_micro')\n",
        "print(f\"Cross-validation scores (f1_micro): {cv_scores}\")\n",
        "print(f\"Mean CV f1 score: {cv_scores.mean()}\")"
      ],
      "metadata": {
        "colab": {
          "base_uri": "https://localhost:8080/"
        },
        "id": "C6l-gjjLJSBp",
        "outputId": "1e5c9a15-5d4f-44c5-f329-2f7916cac611"
      },
      "execution_count": 63,
      "outputs": [
        {
          "output_type": "stream",
          "name": "stdout",
          "text": [
            "Cross-validation scores (f1_micro): [0.77079441 0.76696866 0.77421759]\n",
            "Mean CV f1 score: 0.770660219164081\n"
          ]
        }
      ]
    }
  ]
}